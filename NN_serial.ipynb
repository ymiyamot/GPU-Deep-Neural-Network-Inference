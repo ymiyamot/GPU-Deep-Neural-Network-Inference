{
 "cells": [
  {
   "cell_type": "code",
   "execution_count": 1,
   "metadata": {
    "collapsed": true
   },
   "outputs": [],
   "source": [
    "# This script does deep neural network inference without parallelization\n",
    "# for comparing speed and correctness\n",
    "import numpy as np"
   ]
  },
  {
   "cell_type": "code",
   "execution_count": 8,
   "metadata": {
    "collapsed": true
   },
   "outputs": [],
   "source": [
    "# Decide the parameters of the structure of the neural network\n",
    "n_layers = 4 # Including input and output layer\n",
    "n_classes = 2 # Size of output layer\n",
    "n_neurons = [2**8, 2**8, 2**8, n_classes]"
   ]
  },
  {
   "cell_type": "code",
   "execution_count": 27,
   "metadata": {
    "collapsed": true
   },
   "outputs": [],
   "source": [
    "# Generate weights\n",
    "weights = []\n",
    "for layer_i in range(n_layers - 1):\n",
    "    n_pre_layer = n_neurons[layer_i]\n",
    "    n_post_layer = n_neurons[layer_i + 1]\n",
    "    weights.append(np.random.normal(size=(n_post_layer, n_pre_layer)))"
   ]
  },
  {
   "cell_type": "code",
   "execution_count": 81,
   "metadata": {
    "collapsed": false
   },
   "outputs": [],
   "source": [
    "# Generate inputs\n",
    "n_inputs = 3\n",
    "inputs = np.random.normal(size=(n_neurons[0], n_inputs)) # random inputs\n",
    "# inputs = np.zeros(shape=(n_neurons[0], n_inputs)) # zero inputs "
   ]
  },
  {
   "cell_type": "code",
   "execution_count": 82,
   "metadata": {
    "collapsed": true
   },
   "outputs": [],
   "source": [
    "# Generate nonlinear activation function\n",
    "def nonlin_activation(x):\n",
    "    return 2 * np.exp(x) / (np.exp(x) + 1) - 1\n",
    "\n",
    "def softmax(x):\n",
    "    out = np.zeros_like(x)\n",
    "    for colm_i in range(x.shape[1]):        \n",
    "        exp_elem = np.exp(x[:, colm_i])\n",
    "        out[:, colm_i] = exp_elem / np.sum(exp_elem)\n",
    "    return(out)"
   ]
  },
  {
   "cell_type": "code",
   "execution_count": 83,
   "metadata": {
    "collapsed": false
   },
   "outputs": [],
   "source": [
    "# Propagate inputs through network\n",
    "def infer_np_serial(inputs):\n",
    "    layer_inputs = inputs\n",
    "    for layer_i in range(n_layers - 1):\n",
    "        if layer_i != n_layers - 2:\n",
    "            layer_inputs = nonlin_activation(weights[layer_i].dot(layer_inputs))\n",
    "        else:\n",
    "            layer_inputs = softmax(weights[layer_i].dot(layer_inputs))\n",
    "            output = layer_inputs\n",
    "    return(output)"
   ]
  }
 ],
 "metadata": {
  "kernelspec": {
   "display_name": "Python 2",
   "language": "python",
   "name": "python2"
  },
  "language_info": {
   "codemirror_mode": {
    "name": "ipython",
    "version": 2
   },
   "file_extension": ".py",
   "mimetype": "text/x-python",
   "name": "python",
   "nbconvert_exporter": "python",
   "pygments_lexer": "ipython2",
   "version": "2.7.10"
  }
 },
 "nbformat": 4,
 "nbformat_minor": 0
}
